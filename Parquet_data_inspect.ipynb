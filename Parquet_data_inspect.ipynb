{
 "cells": [
  {
   "cell_type": "code",
   "execution_count": 2,
   "metadata": {},
   "outputs": [],
   "source": [
    "import pandas as pd"
   ]
  },
  {
   "cell_type": "code",
   "execution_count": 7,
   "metadata": {},
   "outputs": [
    {
     "name": "stdout",
     "output_type": "stream",
     "text": [
      "(500000, 5)\n"
     ]
    },
    {
     "data": {
      "text/html": [
       "<div>\n",
       "<style scoped>\n",
       "    .dataframe tbody tr th:only-of-type {\n",
       "        vertical-align: middle;\n",
       "    }\n",
       "\n",
       "    .dataframe tbody tr th {\n",
       "        vertical-align: top;\n",
       "    }\n",
       "\n",
       "    .dataframe thead th {\n",
       "        text-align: right;\n",
       "    }\n",
       "</style>\n",
       "<table border=\"1\" class=\"dataframe\">\n",
       "  <thead>\n",
       "    <tr style=\"text-align: right;\">\n",
       "      <th></th>\n",
       "      <th>date</th>\n",
       "      <th>customerId</th>\n",
       "      <th>feature1</th>\n",
       "      <th>feature2</th>\n",
       "      <th>target</th>\n",
       "    </tr>\n",
       "  </thead>\n",
       "  <tbody>\n",
       "    <tr>\n",
       "      <th>0</th>\n",
       "      <td>2024-03-27</td>\n",
       "      <td>b7a1cd10-a04f-4c18-818f-bc2beb511ccd</td>\n",
       "      <td>46.221709</td>\n",
       "      <td>0.894587</td>\n",
       "      <td>1</td>\n",
       "    </tr>\n",
       "    <tr>\n",
       "      <th>1</th>\n",
       "      <td>2023-12-07</td>\n",
       "      <td>9060407c-d31c-4290-9a6a-6869bf6e74c8</td>\n",
       "      <td>50.003714</td>\n",
       "      <td>0.079709</td>\n",
       "      <td>1</td>\n",
       "    </tr>\n",
       "    <tr>\n",
       "      <th>2</th>\n",
       "      <td>2023-12-28</td>\n",
       "      <td>f05fb84f-07f2-42d2-aa17-3c7f1e7a2f7d</td>\n",
       "      <td>53.048249</td>\n",
       "      <td>2.944088</td>\n",
       "      <td>1</td>\n",
       "    </tr>\n",
       "    <tr>\n",
       "      <th>3</th>\n",
       "      <td>2023-05-14</td>\n",
       "      <td>bf602e65-fdae-4d1e-9cb1-04d9d366724a</td>\n",
       "      <td>40.617128</td>\n",
       "      <td>0.989605</td>\n",
       "      <td>1</td>\n",
       "    </tr>\n",
       "    <tr>\n",
       "      <th>4</th>\n",
       "      <td>2023-05-17</td>\n",
       "      <td>36731821-b30c-4f20-acf9-a180ca1ca04e</td>\n",
       "      <td>72.097423</td>\n",
       "      <td>2.087374</td>\n",
       "      <td>1</td>\n",
       "    </tr>\n",
       "  </tbody>\n",
       "</table>\n",
       "</div>"
      ],
      "text/plain": [
       "        date                            customerId   feature1  feature2  \\\n",
       "0 2024-03-27  b7a1cd10-a04f-4c18-818f-bc2beb511ccd  46.221709  0.894587   \n",
       "1 2023-12-07  9060407c-d31c-4290-9a6a-6869bf6e74c8  50.003714  0.079709   \n",
       "2 2023-12-28  f05fb84f-07f2-42d2-aa17-3c7f1e7a2f7d  53.048249  2.944088   \n",
       "3 2023-05-14  bf602e65-fdae-4d1e-9cb1-04d9d366724a  40.617128  0.989605   \n",
       "4 2023-05-17  36731821-b30c-4f20-acf9-a180ca1ca04e  72.097423  2.087374   \n",
       "\n",
       "   target  \n",
       "0       1  \n",
       "1       1  \n",
       "2       1  \n",
       "3       1  \n",
       "4       1  "
      ]
     },
     "execution_count": 7,
     "metadata": {},
     "output_type": "execute_result"
    }
   ],
   "source": [
    "df = pd.read_parquet(\"data/data/train/chunk_09.parquet\")\n",
    "print(df.shape)\n",
    "df.head()"
   ]
  },
  {
   "cell_type": "code",
   "execution_count": 3,
   "metadata": {},
   "outputs": [
    {
     "data": {
      "text/plain": [
       "428101"
      ]
     },
     "execution_count": 3,
     "metadata": {},
     "output_type": "execute_result"
    }
   ],
   "source": [
    "df.target.sum()"
   ]
  },
  {
   "cell_type": "code",
   "execution_count": 4,
   "metadata": {},
   "outputs": [
    {
     "name": "stdout",
     "output_type": "stream",
     "text": [
      "2023-01-01 00:00:00\n",
      "2024-12-31 00:00:00\n"
     ]
    }
   ],
   "source": [
    "print(df.date.min())\n",
    "print(df.date.max())"
   ]
  },
  {
   "cell_type": "code",
   "execution_count": 3,
   "metadata": {},
   "outputs": [],
   "source": [
    "df_test = pd.read_parquet(\"data/data/predict/chunk_01.parquet\")"
   ]
  },
  {
   "cell_type": "code",
   "execution_count": 9,
   "metadata": {},
   "outputs": [
    {
     "data": {
      "text/html": [
       "<div>\n",
       "<style scoped>\n",
       "    .dataframe tbody tr th:only-of-type {\n",
       "        vertical-align: middle;\n",
       "    }\n",
       "\n",
       "    .dataframe tbody tr th {\n",
       "        vertical-align: top;\n",
       "    }\n",
       "\n",
       "    .dataframe thead th {\n",
       "        text-align: right;\n",
       "    }\n",
       "</style>\n",
       "<table border=\"1\" class=\"dataframe\">\n",
       "  <thead>\n",
       "    <tr style=\"text-align: right;\">\n",
       "      <th></th>\n",
       "      <th>date</th>\n",
       "      <th>customerId</th>\n",
       "      <th>feature1</th>\n",
       "      <th>feature2</th>\n",
       "      <th>target</th>\n",
       "    </tr>\n",
       "  </thead>\n",
       "  <tbody>\n",
       "    <tr>\n",
       "      <th>0</th>\n",
       "      <td>2025-06-23</td>\n",
       "      <td>e08aa5c7-99be-4373-9d7a-6e12619851a1</td>\n",
       "      <td>46.011688</td>\n",
       "      <td>0.130936</td>\n",
       "      <td>1</td>\n",
       "    </tr>\n",
       "    <tr>\n",
       "      <th>1</th>\n",
       "      <td>2025-02-18</td>\n",
       "      <td>73e28e4c-25c8-4ddc-a1f0-44a5ab9a0310</td>\n",
       "      <td>24.309077</td>\n",
       "      <td>1.368083</td>\n",
       "      <td>0</td>\n",
       "    </tr>\n",
       "    <tr>\n",
       "      <th>2</th>\n",
       "      <td>2025-04-29</td>\n",
       "      <td>16e0215d-9f73-4e98-889c-186d4d22b127</td>\n",
       "      <td>65.842650</td>\n",
       "      <td>1.268610</td>\n",
       "      <td>1</td>\n",
       "    </tr>\n",
       "    <tr>\n",
       "      <th>3</th>\n",
       "      <td>2025-07-13</td>\n",
       "      <td>a9df18fc-6dd1-4674-88b1-d80120ee5308</td>\n",
       "      <td>40.843659</td>\n",
       "      <td>2.317356</td>\n",
       "      <td>1</td>\n",
       "    </tr>\n",
       "    <tr>\n",
       "      <th>4</th>\n",
       "      <td>2025-11-21</td>\n",
       "      <td>8f038dc8-8adc-4614-8d81-d04892df0606</td>\n",
       "      <td>45.022719</td>\n",
       "      <td>1.493261</td>\n",
       "      <td>0</td>\n",
       "    </tr>\n",
       "  </tbody>\n",
       "</table>\n",
       "</div>"
      ],
      "text/plain": [
       "        date                            customerId   feature1  feature2  \\\n",
       "0 2025-06-23  e08aa5c7-99be-4373-9d7a-6e12619851a1  46.011688  0.130936   \n",
       "1 2025-02-18  73e28e4c-25c8-4ddc-a1f0-44a5ab9a0310  24.309077  1.368083   \n",
       "2 2025-04-29  16e0215d-9f73-4e98-889c-186d4d22b127  65.842650  1.268610   \n",
       "3 2025-07-13  a9df18fc-6dd1-4674-88b1-d80120ee5308  40.843659  2.317356   \n",
       "4 2025-11-21  8f038dc8-8adc-4614-8d81-d04892df0606  45.022719  1.493261   \n",
       "\n",
       "   target  \n",
       "0       1  \n",
       "1       0  \n",
       "2       1  \n",
       "3       1  \n",
       "4       0  "
      ]
     },
     "execution_count": 9,
     "metadata": {},
     "output_type": "execute_result"
    }
   ],
   "source": [
    "df_test.head()"
   ]
  },
  {
   "cell_type": "code",
   "execution_count": 10,
   "metadata": {},
   "outputs": [
    {
     "data": {
      "text/plain": [
       "0.855842"
      ]
     },
     "execution_count": 10,
     "metadata": {},
     "output_type": "execute_result"
    }
   ],
   "source": [
    "df_test.target.sum() / df_test.shape[0] "
   ]
  },
  {
   "cell_type": "code",
   "execution_count": 11,
   "metadata": {},
   "outputs": [
    {
     "data": {
      "text/plain": [
       "0.856202"
      ]
     },
     "execution_count": 11,
     "metadata": {},
     "output_type": "execute_result"
    }
   ],
   "source": [
    "df.target.sum() / df.shape[0] "
   ]
  },
  {
   "cell_type": "code",
   "execution_count": 4,
   "metadata": {},
   "outputs": [
    {
     "data": {
      "text/plain": [
       "Timestamp('2025-01-02 00:00:00')"
      ]
     },
     "execution_count": 4,
     "metadata": {},
     "output_type": "execute_result"
    }
   ],
   "source": [
    "df_test.date.min()"
   ]
  },
  {
   "cell_type": "code",
   "execution_count": 5,
   "metadata": {},
   "outputs": [
    {
     "data": {
      "text/plain": [
       "Timestamp('2025-12-31 00:00:00')"
      ]
     },
     "execution_count": 5,
     "metadata": {},
     "output_type": "execute_result"
    }
   ],
   "source": [
    "df_test.date.max()"
   ]
  },
  {
   "cell_type": "code",
   "execution_count": null,
   "metadata": {},
   "outputs": [],
   "source": []
  }
 ],
 "metadata": {
  "kernelspec": {
   "display_name": "Python 3",
   "language": "python",
   "name": "python3"
  },
  "language_info": {
   "codemirror_mode": {
    "name": "ipython",
    "version": 3
   },
   "file_extension": ".py",
   "mimetype": "text/x-python",
   "name": "python",
   "nbconvert_exporter": "python",
   "pygments_lexer": "ipython3",
   "version": "3.11.9"
  }
 },
 "nbformat": 4,
 "nbformat_minor": 2
}
